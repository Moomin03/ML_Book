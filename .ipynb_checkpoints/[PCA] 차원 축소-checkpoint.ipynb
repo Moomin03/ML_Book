{
 "cells": [
  {
   "cell_type": "markdown",
   "id": "4ad06c42-c70f-4d9c-aeac-e784d0d70897",
   "metadata": {},
   "source": [
    "### 기초 개념\n",
    "---\n",
    "#### [모분산]\n",
    "$$\n",
    "\\frac{1}{n} \\sum_{i=1}^{n} (x_i - \\mu)^2\n",
    "$$\n",
    "\n",
    "```python\n",
    "np.var(배열, ddof=0) # 모분산 값 계산\n",
    "```\n",
    "#### [표본분산]\n",
    "$$\n",
    "\\frac{1}{n-1} \\sum_{i=1}^{n} (x_i - \\mu)^2\n",
    "$$\n",
    "\n",
    "```python\n",
    "np.var(배열, ddof=1) # 표본분산 값 계산\n",
    "```\n",
    "---\n",
    "#### [모분산과 표본분산 차이점]\n",
    "| 특징           | 모분산 (Population Variance)             | 표본분산 (Sample Variance)                   |\n",
    "|----------------|-----------------------------------------|--------------------------------------------|\n",
    "| 목적           | 모집단의 분산을 계산                    | 표본을 기반으로 모집단의 분산을 추정        |\n",
    "| 분모           | 모집단 크기 \\(N\\) 사용                  | 표본 크기 \\(n - 1\\) 사용                   |\n",
    "| 평균 사용      | 모집단 평균 \\(\\mu\\) 사용                | 표본 평균 \\(\\bar{x}\\) 사용                 |\n",
    "| 정확도         | 정확한 값 (모집단을 모두 알 때)         | 표본으로 모집단을 추정하기 때문에 보정 필요 (자유도 보정) |\n",
    "\n",
    "---\n",
    "#### [예시]\n",
    "- 모집단 A가 [2, 4, 6, 8, 10]이라고 가정합시다.\n",
    "```python\n",
    "A = [2, 4, 6, 8, 10]\n",
    "```\n",
    "> A의 평균은?\n",
    "$$\n",
    "\\frac{2 + 4 + 6 + 8 + 10}{5} = 6\n",
    "$$\n",
    "> A의 분산은?\n",
    "$$\n",
    "\\sigma^2 = \\frac{1}{5} \\left[ (2 - 6)^2 + (4 - 6)^2 + (6 - 6)^2 + (8 - 6)^2 + (10 - 6)^2 \\right] = 8\n",
    "$$\n",
    "\n",
    "- 표본집단 A_1이 [2, 4, 6]이라고 가정합시다.\n",
    "```python\n",
    "A_1 = [2, 4, 6, 8, 10]\n",
    "```\n",
    "> A_1의 표본평균은?\n",
    "$$\n",
    "\\frac{2 + 4 + 6}{3} = 4\n",
    "$$\n",
    "> A_1의 표본분산은?\n",
    "$$\n",
    "\\sigma^2 = \\frac{1}{3-1} \\left[ (2 - 4)^2 + (4 - 4)^2 + (6 - 4)^2 \\right] = 4\n",
    "$$\n",
    "> 여기서 집중해야되는 점은 바로 평균입니다. 3-1을 하지 않으면 표본분산이 모분산을 과소추정합니다.\n",
    "> 과소추정이란 원래 값보다 작게 계산하는 것을 의미합니다.\n",
    "> 따라서 우리가 표본분산을 계산할 때 자유도 보정 (Bessel's correction)을 사용하는거죠.\n",
    "> 자유도 보정을 통해 표본분산을 모집단분산에 근접하도록 보정합니다."
   ]
  },
  {
   "cell_type": "markdown",
   "id": "ca0b2819-b7e9-4035-a8af-74bb5664d029",
   "metadata": {},
   "source": [
    "추가 학습\n",
    "---\n",
    "#### [공분산]\n",
    "개념 : 공분산은 두 변수 𝑋, Y 간의 선형적인 관계의 방향과 강도를 나타내는 지표입니다\n",
    "$$\n",
    "\\text{cov}(X, Y) = \\frac{1}{n-1} \\sum_{i=1}^{n} (X_i - \\bar{X})(Y_i - \\bar{Y})\n",
    "$$\n",
    "\n",
    "#### [공분산의 형태]\n",
    "$$\n",
    "\\text{COV}(X, Y) =\n",
    "\\begin{bmatrix}\n",
    "\\text{COV}(X, X) & \\text{COV}(X, Y) \\\\\n",
    "\\text{COV}(Y, X) & \\text{COV}(Y, Y)\n",
    "\\end{bmatrix}\n",
    "$$\n",
    "\n",
    "- 공분산 행렬은 대칭 행렬입니다.\n",
    "- 행렬의 대각선에는 각 변수의 표본분산이 들어갑니다.\n",
    "- 비대각선 항목은 두 변수 간의 공분산을 나타냅니다.\n",
    "#### [공분산의 의미]\n",
    "- 양의 공분산 : 두 변수는 같은 방향으로 움직입니다. 즉, 하나가 증가하면 다른 변수도 증가하고, 하나가 감소하면 다른 변수도 감소합니다.\n",
    "- 음의 공분산 : 두 변수는 반대 방향으로 움직입니다. 하나가 증가하면 다른 변수는 감소하고, 하나가 감소하면 다른 변수는 증가합니다.\n",
    "- 공분산이 0 : 두 변수 간에 선형적인 관계가 없다는 것을 의미합니다. 즉, 하나의 변수 변화가 다른 변수에 영향을 주지 않습니다.\n",
    "#### [공분산의 예시]\n",
    "```python\n",
    "a = [2, 4, 6, 8, 10]\n",
    "b = [1, 7, 14, 28, 35]\n",
    "np.cov(a, b)\n",
    "```\n",
    "    결과 : array([[ 10. ,  44.5],\n",
    "                 [ 44.5, 202.5]])\n",
    "- a와 b의 표본분산이 10과 202.5이고, 공분산이 44.5인것으로 보아 양의 선형관계를 보이는구나!\n",
    "#### [궁금한 점]\n",
    "> Q1. 표본분산과 모분산은 뭔지 알았는데 왜 np.cov()는 표본분산으로 구하는건가요??? 주어진 데이터를 다 쓰는 거니깐, 모집단으로 취급해야하는거 아닌가요????\n",
    ">> A1. 우리가 일반적으로 머신러닝을 사용할 때, 훈련시키는 데이터는 모집단이 아니라 표본집단이라고 가정합니다. 이유는, 훈련 데이터가 모집단 전체를 대표한다고 가정하면, 추가적인 데이터가 들어올 여지가 없다는 의미가 됩니다. 즉, 새로운 데이터나 테스트 데이터에 대한 예측이 불가능해지죠. 훈련 데이터를 표본집단으로 가정하는 이유는, 앞으로 들어올 추가적인 데이터를 반영해서 예측을 해야 하기 때문입니다. 훈련 데이터는 모집단의 일부에 해당하며, 이를 통해 모집단에 대한 추정을 하고, 추가적인 데이터가 들어왔을 때 모델을 계속 업데이트하고 예측할 수 있게 됩니다. 따라서, 머신러닝에서는 훈련 데이터를 표본집단으로 보고, 모집단의 특성을 추정하는 방식으로 진행됩니다."
   ]
  },
  {
   "cell_type": "markdown",
   "id": "4dd24103-fb3c-4f30-b5aa-0d15a8102eb1",
   "metadata": {},
   "source": [
    "#### [고유벡터]\n",
    "$$\n",
    "A v = \\lambda v\n",
    "$$\n",
    "#### [고유벡터 식에서의 의미]\n",
    "- A는 주어진 정사각행렬입니다.\n",
    "- v는 고유벡터입니다.\n",
    "- λ는 고유값(Eigenvalue)이라고 불리며, 고유벡터에 대응하는 상수 값입니다.\n",
    "#### [고유벡터의 정의]\n",
    "- 개념 : 고유벡터는 행렬 A와 곱했을 때, 방향은 바뀌지 않고 크기만 변화하는 벡터입니다. 고유값 λ는 이 변화된 크기입니다.\n",
    "#### [고유벡터와 고유값 찾기]\n",
    "$$\n",
    "\\det(A - \\lambda I) = 0\n",
    "$$\n",
    "#### [고유벡터와 고유값 찾기 예시]\n",
    "```python\n",
    "a = [[4, 1],\n",
    "     [2, 3]]\n",
    "# 변환 후 \n",
    "a = [[4-λ, 1],\n",
    "     [2, 3-λ]] # 이고 (4-λ)(3-λ) - 2 = 0이 나와야 합니다.\n",
    "```\n",
    "> 따라서 λ의 값은 2와 5입니다.\n",
    ">> λ이 2일 때 v = [-1, 2]이고\n",
    ">> λ이 5일 때 v = [1, 1]이 됩니다."
   ]
  },
  {
   "cell_type": "code",
   "execution_count": 50,
   "id": "c22bbf11-66cb-4943-83e5-97731da5e08d",
   "metadata": {},
   "outputs": [
    {
     "name": "stdout",
     "output_type": "stream",
     "text": [
      "고유값 : [4.61333311 2.56196365 1.47235745 1.04593296 0.82771456 0.63118392\n",
      " 0.58135271 0.10150899 0.33390866 0.29097367 0.18245225 0.20813294\n",
      " 0.24138371]\n"
     ]
    },
    {
     "data": {
      "image/png": "[encoded data removed]",
      "text/plain": [
       "<Figure size 640x480 with 1 Axes>"
      ]
     },
     "metadata": {},
     "output_type": "display_data"
    }
   ],
   "source": [
    "# 고유값에 따른 변화\n",
    "from sklearn.datasets import load_wine\n",
    "wine_data = load_wine()\n",
    "data, target = wine_data.data, wine_data.target\n",
    "columns = wine_data.feature_names\n",
    "\n",
    "from sklearn.model_selection import train_test_split\n",
    "train_input, test_input, train_target, test_target = train_test_split(data,\n",
    "                                                                      target,\n",
    "                                                                      stratify=target,\n",
    "                                                                      test_size=0.2)\n",
    "\n",
    "from sklearn.preprocessing import StandardScaler\n",
    "ss = StandardScaler()\n",
    "train_scaled = ss.fit_transform(train_input)\n",
    "test_scaled = ss.transform(test_input)\n",
    "\n",
    "import numpy as np\n",
    "cov_mat = np.cov(train_scaled.T)\n",
    "eigen_vals, eigen_vecs = np.linalg.eig(cov_mat)\n",
    "print(f'고유값 : {eigen_vals}')\n",
    "\n",
    "tot = sum(eigen_vals)\n",
    "var_exp = [(i/tot) for i in sorted(eigen_vals, reverse=True)]\n",
    "cum_var_exp = np.cumsum(var_exp)\n",
    "\n",
    "import matplotlib.pyplot as plt\n",
    "plt.bar(range(1, 14), var_exp)\n",
    "plt.step(range(1, 14), cum_var_exp, marker='o', where='mid', color='red')\n",
    "plt.show()"
   ]
  },
  {
   "cell_type": "code",
   "execution_count": 51,
   "id": "35e8a7ab-ba8a-4b4e-b876-6cacb4b25e73",
   "metadata": {},
   "outputs": [
    {
     "name": "stdout",
     "output_type": "stream",
     "text": [
      "투영 행렬 W : [[ 0.15197744  0.47315076]\n",
      " [-0.22782669  0.26150611]\n",
      " [-0.00531523  0.28116743]\n",
      " [-0.25304147 -0.05465864]\n",
      " [ 0.11407308  0.32727651]\n",
      " [ 0.40839775  0.04621229]\n",
      " [ 0.42981592 -0.00411188]\n",
      " [-0.2799587  -0.01749194]\n",
      " [ 0.31472767  0.03713852]\n",
      " [-0.10569576  0.51787455]\n",
      " [ 0.2923225  -0.28888784]\n",
      " [ 0.38162357 -0.15628702]\n",
      " [ 0.27695764  0.37239322]]\n"
     ]
    },
    {
     "data": {
      "image/png": "[encoded data removed]",
      "text/plain": [
       "<Figure size 640x480 with 1 Axes>"
      ]
     },
     "metadata": {},
     "output_type": "display_data"
    }
   ],
   "source": [
    "eigen_pairs = [(np.abs(eigen_vals[i]), eigen_vecs[:, i]) for i in range(len(eigen_vals))]\n",
    "eigen_pairs.sort(key=lambda k: k[0], reverse=True)\n",
    "w = np.hstack((eigen_pairs[0][1][:, np.newaxis],\n",
    "               eigen_pairs[1][1][:, np.newaxis]))\n",
    "print(f'투영 행렬 W : {w}')\n",
    "train_pca = train_scaled.dot(w)\n",
    "for idx, i in enumerate(np.unique(train_target)):\n",
    "    plt.scatter(train_pca[train_target==i, 0],\n",
    "                train_pca[train_target==i, 1], label=f'Class{i}')\n",
    "    plt.legend()"
   ]
  },
  {
   "cell_type": "code",
   "execution_count": 2,
   "id": "9f8a2202-82ad-4517-99d7-89ac8c66d870",
   "metadata": {},
   "outputs": [],
   "source": [
    "from sklearn.datasets import load_wine\n",
    "wine_data = load_wine()\n",
    "data, target = wine_data.data, wine_data.target\n",
    "columns = wine"
   ]
  },
  {
   "cell_type": "code",
   "execution_count": 3,
   "id": "56fbef76-62e7-43e8-b99d-88a804f349ae",
   "metadata": {},
   "outputs": [],
   "source": [
    "from sklearn.model_selection import train_test_split\n",
    "train_input, test_input,train_target, test_target = train_test_split(data,\n",
    "                                                                     target,\n",
    "                                                                     stratify=target,\n",
    "                                                                     test_size=0.2)\n",
    "from sklearn.preprocessing import StandardScaler\n",
    "ss = StandardScaler()\n",
    "train_scaled = ss.fit_transform(train_input)\n",
    "test_scaled = ss.transform(test_input)"
   ]
  },
  {
   "cell_type": "code",
   "execution_count": null,
   "id": "2a858b53-688f-4bfb-8cad-9587ab5b15b8",
   "metadata": {},
   "outputs": [],
   "source": []
  }
 ],
 "metadata": {
  "kernelspec": {
   "display_name": "Python 3 (ipykernel)",
   "language": "python",
   "name": "python3"
  },
  "language_info": {
   "codemirror_mode": {
    "name": "ipython",
    "version": 3
   },
   "file_extension": ".py",
   "mimetype": "text/x-python",
   "name": "python",
   "nbconvert_exporter": "python",
   "pygments_lexer": "ipython3",
   "version": "3.12.8"
  }
 },
 "nbformat": 4,
 "nbformat_minor": 5
}
