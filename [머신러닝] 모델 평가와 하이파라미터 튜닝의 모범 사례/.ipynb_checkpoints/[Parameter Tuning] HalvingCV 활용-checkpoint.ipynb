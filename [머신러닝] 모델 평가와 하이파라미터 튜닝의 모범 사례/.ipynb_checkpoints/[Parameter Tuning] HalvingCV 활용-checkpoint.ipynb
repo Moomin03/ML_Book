{
 "cells": [
  {
   "cell_type": "code",
   "execution_count": 64,
   "id": "43bc878d-c2d4-4674-a1f9-b29de2c3a22f",
   "metadata": {},
   "outputs": [
    {
     "name": "stdout",
     "output_type": "stream",
     "text": [
      "0.973529411764706\n",
      "{'svc__kernel': 'linear', 'svc__C': 0.1}\n",
      "0.9846153846153847\n"
     ]
    }
   ],
   "source": [
    "import warnings\n",
    "warnings.filterwarnings('ignore')\n",
    "\n",
    "from sklearn.datasets import load_breast_cancer\n",
    "breast_data = load_breast_cancer()\n",
    "data, target = breast_data['data'],  breast_data['target']\n",
    "columns = breast_data.feature_names\n",
    "\n",
    "from sklearn.model_selection import train_test_split\n",
    "train_input, test_input, train_target, test_target = train_test_split(data,\n",
    "                                                                      target,\n",
    "                                                                      stratify=target,\n",
    "                                                                      random_state=42,\n",
    "                                                                      test_size=0.2)\n",
    "\n",
    "from sklearn.svm import SVC\n",
    "from sklearn.preprocessing import StandardScaler\n",
    "from sklearn.pipeline import make_pipeline\n",
    "pipe = make_pipeline(StandardScaler(),\n",
    "                     SVC(random_state=42))\n",
    "param_range = [0.0001, 0.001, 0.01, 0.1, 10, 100, 1000]\n",
    "param_grid = [{'svc__C':param_range,\n",
    "               'svc__kernel':['linear']},\n",
    "              {'svc__C':param_range,\n",
    "               'svc__gamma':param_range,\n",
    "               'svc__kernel':['rdf']}]\n",
    "\n",
    "from sklearn.experimental import enable_halving_search_cv\n",
    "from sklearn.model_selection import HalvingRandomSearchCV\n",
    "hs = HalvingRandomSearchCV(pipe,\n",
    "                           param_distributions=param_grid,\n",
    "                           n_candidates='exhaust',\n",
    "                           factor=1.5,\n",
    "                           random_state=42,\n",
    "                           refit=True,\n",
    "                           resource='n_samples',\n",
    "                           n_jobs=-1)\n",
    "hs = hs.fit(train_input, train_target)\n",
    "print(hs.best_score_)\n",
    "print(hs.best_params_)\n",
    "print(hs.score(train_input, train_target))"
   ]
  },
  {
   "cell_type": "code",
   "execution_count": 68,
   "id": "35b91545-b603-40d6-9fd1-96064d3eb194",
   "metadata": {},
   "outputs": [
    {
     "name": "stdout",
     "output_type": "stream",
     "text": [
      "0.9780219780219781\n"
     ]
    }
   ],
   "source": [
    "from sklearn.model_selection import GridSearchCV, cross_validate\n",
    "gs = GridSearchCV(estimator=pipe,\n",
    "                  param_grid=param_grid,\n",
    "                  scoring='accuracy',\n",
    "                  cv=2)\n",
    "scores = cross_validate(gs, train_input, train_target,\n",
    "                        scoring='accuracy', cv=5)['test_score']\n",
    "print(np.mean(scores))"
   ]
  },
  {
   "cell_type": "code",
   "execution_count": 71,
   "id": "8ba57c66-fc77-4112-948c-7f20ff15f3dd",
   "metadata": {},
   "outputs": [
    {
     "name": "stdout",
     "output_type": "stream",
     "text": [
      "0.9186813186813186\n"
     ]
    }
   ],
   "source": [
    "from sklearn.tree import DecisionTreeClassifier\n",
    "gs = GridSearchCV(estimator=DecisionTreeClassifier(random_state=42),\n",
    "                  param_grid=[{'max_depth':[1, 2, 3, 4, 5, 6, 7, None]}],\n",
    "                  scoring='accuracy',\n",
    "                  cv=2)\n",
    "scores = cross_validate(gs, train_input, train_target,\n",
    "                        scoring='accuracy', cv=5)['test_score']\n",
    "print(np.mean(scores))"
   ]
  }
 ],
 "metadata": {
  "kernelspec": {
   "display_name": "Python 3 (ipykernel)",
   "language": "python",
   "name": "python3"
  },
  "language_info": {
   "codemirror_mode": {
    "name": "ipython",
    "version": 3
   },
   "file_extension": ".py",
   "mimetype": "text/x-python",
   "name": "python",
   "nbconvert_exporter": "python",
   "pygments_lexer": "ipython3",
   "version": "3.12.8"
  }
 },
 "nbformat": 4,
 "nbformat_minor": 5
}
