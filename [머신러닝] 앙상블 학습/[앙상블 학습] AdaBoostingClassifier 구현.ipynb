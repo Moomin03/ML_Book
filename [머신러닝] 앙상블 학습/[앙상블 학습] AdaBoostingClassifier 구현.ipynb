{
 "cells": [
  {
   "cell_type": "code",
   "execution_count": 7,
   "id": "a22fc0f5-fd70-416e-896f-6e3487ec7ab1",
   "metadata": {},
   "outputs": [
    {
     "name": "stdout",
     "output_type": "stream",
     "text": [
      "훈련 데이터 형태 : (142, 13)\n",
      "테스트 데이터 형태 : (36, 13)\n",
      "훈련 타겟 데이터 값의 분포 : (array([0, 1, 2]), array([47, 57, 38]))\n",
      "테스트 타겟 데이터 값의 분포 : (array([0, 1, 2]), array([12, 14, 10]))\n"
     ]
    }
   ],
   "source": [
    "import numpy as np\n",
    "from sklearn.datasets import load_wine\n",
    "from sklearn.model_selection import train_test_split\n",
    "from sklearn.preprocessing import StandardScaler\n",
    "from sklearn.decomposition import PCA\n",
    "wine_data = load_wine()\n",
    "data, target, columns = wine_data.data, wine_data.target, wine_data.feature_names\n",
    "train_input, test_input, train_target, test_target = train_test_split(data,\n",
    "                                                                      target,\n",
    "                                                                      stratify=target,\n",
    "                                                                      test_size=0.2,\n",
    "                                                                      random_state=42)\n",
    "print('훈련 데이터 형태 : '+\n",
    "      str(train_input.shape))\n",
    "print('테스트 데이터 형태 : '+\n",
    "      str(test_input.shape))\n",
    "print('훈련 타겟 데이터 값의 분포 : '+\n",
    "      str(np.unique(train_target, return_counts=True)))\n",
    "print('테스트 타겟 데이터 값의 분포 : '+\n",
    "      str(np.unique(test_target, return_counts=True)))"
   ]
  },
  {
   "cell_type": "code",
   "execution_count": 13,
   "id": "3ba90c79-4b87-4c32-adfe-615845b700ae",
   "metadata": {},
   "outputs": [
    {
     "name": "stdout",
     "output_type": "stream",
     "text": [
      "결정 트리 훈련 정확도/테스트 정확도 : 0.6/0.61\n",
      "에이다부스트 훈련 정확도/테스트 정확도 : 1.0/0.97\n"
     ]
    }
   ],
   "source": [
    "from sklearn.ensemble import AdaBoostClassifier\n",
    "from sklearn.tree import DecisionTreeClassifier\n",
    "from sklearn.metrics import accuracy_score\n",
    "import numpy as np\n",
    "tree = DecisionTreeClassifier(criterion='entropy',\n",
    "                              random_state=42,\n",
    "                              max_depth=1)\n",
    "ada = AdaBoostClassifier(estimator=tree,\n",
    "                         learning_rate=1,\n",
    "                         n_estimators=500,\n",
    "                         random_state=42)\n",
    "tree.fit(train_input, train_target)\n",
    "train_pred = tree.predict(train_input)\n",
    "test_pred = tree.predict(test_input)\n",
    "tree_train = accuracy_score(train_target,train_pred)\n",
    "tree_test = accuracy_score(test_target, test_pred)\n",
    "print('결정 트리 훈련 정확도/테스트 정확도 : ' + str(np.round(tree_train, 2)) + '/' + str(np.round(tree_test, 2)))\n",
    "\n",
    "ada.fit(train_input, train_target)\n",
    "train_pred = ada.predict(train_input)\n",
    "test_pred = ada.predict(test_input)\n",
    "ada_train = accuracy_score(train_target, train_pred)\n",
    "ada_test = accuracy_score(test_target, test_pred)\n",
    "print('에이다부스트 훈련 정확도/테스트 정확도 : ' + str(np.round(ada_train, 2)) + '/' + str(np.round(ada_test, 2)))"
   ]
  }
 ],
 "metadata": {
  "kernelspec": {
   "display_name": "Python 3 (ipykernel)",
   "language": "python",
   "name": "python3"
  },
  "language_info": {
   "codemirror_mode": {
    "name": "ipython",
    "version": 3
   },
   "file_extension": ".py",
   "mimetype": "text/x-python",
   "name": "python",
   "nbconvert_exporter": "python",
   "pygments_lexer": "ipython3",
   "version": "3.12.8"
  }
 },
 "nbformat": 4,
 "nbformat_minor": 5
}
