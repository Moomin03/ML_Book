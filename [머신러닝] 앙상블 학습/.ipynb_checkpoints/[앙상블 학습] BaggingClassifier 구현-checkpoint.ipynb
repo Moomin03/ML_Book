{
 "cells": [
  {
   "cell_type": "code",
   "execution_count": 1,
   "id": "e9609b1d-8948-477d-aafe-b4036f7ec360",
   "metadata": {},
   "outputs": [
    {
     "name": "stdout",
     "output_type": "stream",
     "text": [
      "훈련 데이터 형태 : (142, 13)\n",
      "테스트 데이터 형태 : (36, 13)\n",
      "훈련 타겟 데이터 값의 분포 : (array([0, 1, 2]), array([47, 57, 38]))\n",
      "테스트 타겟 데이터 값의 분포 : (array([0, 1, 2]), array([12, 14, 10]))\n"
     ]
    }
   ],
   "source": [
    "import numpy as np\n",
    "from sklearn.datasets import load_wine\n",
    "from sklearn.model_selection import train_test_split\n",
    "from sklearn.preprocessing import StandardScaler\n",
    "from sklearn.decomposition import PCA\n",
    "wine_data = load_wine()\n",
    "data, target, columns = wine_data.data, wine_data.target, wine_data.feature_names\n",
    "train_input, test_input, train_target, test_target = train_test_split(data,\n",
    "                                                                      target,\n",
    "                                                                      stratify=target,\n",
    "                                                                      test_size=0.2,\n",
    "                                                                      random_state=42)\n",
    "print('훈련 데이터 형태 : '+\n",
    "      str(train_input.shape))\n",
    "print('테스트 데이터 형태 : '+\n",
    "      str(test_input.shape))\n",
    "print('훈련 타겟 데이터 값의 분포 : '+\n",
    "      str(np.unique(train_target, return_counts=True)))\n",
    "print('테스트 타겟 데이터 값의 분포 : '+\n",
    "      str(np.unique(test_target, return_counts=True)))\n",
    "\n",
    "pca = PCA(n_components=2)\n",
    "train_pca = pca.fit_transform(train_input)\n",
    "test_pca = pca.transform(test_input)"
   ]
  },
  {
   "cell_type": "code",
   "execution_count": 2,
   "id": "2adef68d-6b15-4a8b-b1fa-460031232a74",
   "metadata": {},
   "outputs": [],
   "source": [
    "from sklearn.ensemble import BaggingClassifier\n",
    "from sklearn.tree import DecisionTreeClassifier\n",
    "tree = DecisionTreeClassifier(criterion='entropy',\n",
    "                              random_state=42,\n",
    "                              max_depth=None)\n",
    "bag = BaggingClassifier(estimator=tree,\n",
    "                        n_estimators=500,\n",
    "                        max_samples=1.0,\n",
    "                        max_features=1.0,\n",
    "                        bootstrap=True,\n",
    "                        bootstrap_features=False,\n",
    "                        n_jobs=-1,\n",
    "                        random_state=42)"
   ]
  },
  {
   "cell_type": "code",
   "execution_count": 3,
   "id": "b91121bb-3a40-4481-8cc1-7c8154ee6c07",
   "metadata": {},
   "outputs": [
    {
     "name": "stdout",
     "output_type": "stream",
     "text": [
      "트리의 정확도 : 1.0\n",
      "트리의 정확도 : 0.75\n"
     ]
    }
   ],
   "source": [
    "from sklearn.metrics import accuracy_score\n",
    "tree.fit(train_pca, train_target)\n",
    "train_pred = tree.predict(train_pca)\n",
    "test_pred = tree.predict(test_pca)\n",
    "tree_train = accuracy_score(train_target, train_pred)\n",
    "tree_test = accuracy_score(test_target, test_pred)\n",
    "print('트리의 정확도 : ' + str(np.round(tree_train, 2)))\n",
    "print('트리의 정확도 : ' + str(np.round(tree_test, 2)))"
   ]
  },
  {
   "cell_type": "code",
   "execution_count": 4,
   "id": "2f306f76-41d5-489e-a0af-deec9b18c778",
   "metadata": {},
   "outputs": [
    {
     "name": "stdout",
     "output_type": "stream",
     "text": [
      "배깅의 훈련 정확도 : 1.0\n",
      "배깅의 테스트 정확도 : 0.81\n"
     ]
    }
   ],
   "source": [
    "bag.fit(train_pca, train_target)\n",
    "train_pred = bag.predict(train_pca)\n",
    "test_pred = bag.predict(test_pca)\n",
    "bag_train = accuracy_score(train_target, train_pred)\n",
    "bag_test = accuracy_score(test_target, test_pred)\n",
    "print('배깅의 훈련 정확도 : ' + str(np.round(bag_train, 2)))\n",
    "print('배깅의 테스트 정확도 : ' + str(np.round(bag_test, 2)))"
   ]
  },
  {
   "cell_type": "code",
   "execution_count": 6,
   "id": "ab34efec-499f-4b98-a718-98e8c38424a5",
   "metadata": {},
   "outputs": [
    {
     "data": {
      "text/plain": [
       "<matplotlib.collections.PathCollection at 0x7f5ea43abbc0>"
      ]
     },
     "execution_count": 6,
     "metadata": {},
     "output_type": "execute_result"
    },
    {
     "data": {
      "image/png": "[encoded data removed]",
      "text/plain": [
       "<Figure size 640x480 with 1 Axes>"
      ]
     },
     "metadata": {},
     "output_type": "display_data"
    }
   ],
   "source": [
    "import matplotlib.pyplot as plt\n",
    "x_min, x_max = train_pca[:, 0].min()-1, train_pca[:, 0].max()+1\n",
    "y_min, y_max = train_pca[:, 1].min()-1, train_pca[:, 1].max()+1\n",
    "xx, yy = np.meshgrid(np.arange(x_min, x_max, 0.1),\n",
    "                     np.arange(y_min, y_max, 0.1))\n",
    "z = tree.predict(np.c_[xx.ravel(), yy.ravel()])\n",
    "z = z.reshape(xx.shape)\n",
    "\n",
    "plt.contourf(xx, yy, z)\n",
    "plt.scatter(train_pca[:, 0], train_pca[:, 1])"
   ]
  },
  {
   "cell_type": "code",
   "execution_count": 10,
   "id": "a97afa63-50ed-462a-b795-8fe7d73b252f",
   "metadata": {},
   "outputs": [
    {
     "name": "stdout",
     "output_type": "stream",
     "text": [
      "랜덤 포레스트의 정확도 : 1.0\n",
      "랜덤 포레스트의 정확도 : 1.0\n",
      "OOB 정확도 : 0.98\n"
     ]
    }
   ],
   "source": [
    "from sklearn.ensemble import RandomForestClassifier\n",
    "rfc = RandomForestClassifier(random_state=42,\n",
    "                             oob_score=True)\n",
    "rfc.fit(train_input, train_target)\n",
    "print('랜덤 포레스트의 정확도 : ' + str(np.round(rfc.score(train_input, train_target), 2)))\n",
    "print('랜덤 포레스트의 정확도 : ' + str(np.round(rfc.score(test_input, test_target), 2)))\n",
    "print('OOB 정확도 : ' + str(np.round(rfc.oob_score_, 2)))"
   ]
  }
 ],
 "metadata": {
  "kernelspec": {
   "display_name": "Python 3 (ipykernel)",
   "language": "python",
   "name": "python3"
  },
  "language_info": {
   "codemirror_mode": {
    "name": "ipython",
    "version": 3
   },
   "file_extension": ".py",
   "mimetype": "text/x-python",
   "name": "python",
   "nbconvert_exporter": "python",
   "pygments_lexer": "ipython3",
   "version": "3.12.8"
  }
 },
 "nbformat": 4,
 "nbformat_minor": 5
}
