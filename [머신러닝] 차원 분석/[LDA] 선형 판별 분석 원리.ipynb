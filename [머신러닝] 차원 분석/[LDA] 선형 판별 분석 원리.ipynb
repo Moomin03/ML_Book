{
 "cells": [
  {
   "cell_type": "code",
   "execution_count": 1,
   "id": "077c0747-493a-4c75-a126-8a58af3e28ce",
   "metadata": {},
   "outputs": [],
   "source": [
    "from sklearn.datasets import load_wine\n",
    "wine_data = load_wine()\n",
    "data, target = wine_data.data, wine_data.target\n",
    "columns = wine_data.feature_names"
   ]
  },
  {
   "cell_type": "code",
   "execution_count": 2,
   "id": "fba47e48-1508-4a9b-a902-d2e0f7ef6b53",
   "metadata": {},
   "outputs": [],
   "source": [
    "from sklearn.model_selection import train_test_split\n",
    "train_input, test_input, train_target, test_target = train_test_split(data,\n",
    "                                                                      target,\n",
    "                                                                      stratify=target,\n",
    "                                                                      test_size=0.2,\n",
    "                                                                      random_state=42)\n",
    "from sklearn.preprocessing import StandardScaler\n",
    "ss = StandardScaler()\n",
    "train_scaled = ss.fit_transform(train_input)\n",
    "test_scaled = ss.transform(test_input)"
   ]
  },
  {
   "cell_type": "code",
   "execution_count": 16,
   "id": "49b26bb3-57a8-40bc-8650-47c5b2bd4fc5",
   "metadata": {},
   "outputs": [
    {
     "name": "stdout",
     "output_type": "stream",
     "text": [
      "MV 0: [ 0.9129 -0.252   0.3446 -0.7357  0.4534  0.8845  0.997  -0.5403  0.4813\n",
      "  0.2101  0.4341  0.7709  1.1745]\n",
      "MV 1: [-0.868  -0.3878 -0.482   0.2383 -0.349  -0.0876  0.0275 -0.0248  0.1311\n",
      " -0.8624  0.4477  0.2353 -0.7097]\n",
      "MV 2: [ 0.1729  0.8935  0.2967  0.5525 -0.0373 -0.9626 -1.2743  0.7055 -0.792\n",
      "  1.0338 -1.2085 -1.3064 -0.3881]\n"
     ]
    }
   ],
   "source": [
    "import numpy as np\n",
    "np.set_printoptions(precision=4)\n",
    "mean_vecs = []\n",
    "for label in range(3):\n",
    "    mean_vecs.append(np.mean(train_scaled[train_target==label], axis=0))\n",
    "    print('MV %s: %s' %(label, mean_vecs[label]))"
   ]
  },
  {
   "cell_type": "code",
   "execution_count": 18,
   "id": "ea43e2dd-1c32-4983-824f-c1f10a651dfc",
   "metadata": {},
   "outputs": [
    {
     "name": "stdout",
     "output_type": "stream",
     "text": [
      "(13, 13)\n"
     ]
    }
   ],
   "source": [
    "d = 13\n",
    "S_W = np.zeros((d, d))\n",
    "for label, mv in zip(range(3), mean_vecs):\n",
    "    class_scatter = np.zeros((d, d))\n",
    "    for row in train_scaled[train_target==label]:\n",
    "        row, mv = row.reshape(d, 1), mv.reshape(d, 1)\n",
    "        class_scatter+=(row-mv).dot((row-mv).T)\n",
    "    S_W+=class_scatter\n",
    "print(S_W.shape)"
   ]
  },
  {
   "cell_type": "code",
   "execution_count": 28,
   "id": "cc6a85ce-e0e2-4698-aa59-8a35ae402f5c",
   "metadata": {},
   "outputs": [
    {
     "name": "stdout",
     "output_type": "stream",
     "text": [
      "(13, 13)\n"
     ]
    }
   ],
   "source": [
    "d = 13\n",
    "S_W = np.zeros((d, d))\n",
    "for label, mv in zip(range(3), mean_vecs):\n",
    "    class_scatter = np.cov(train_scaled[train_target==label].T)\n",
    "    S_W+=class_scatter\n",
    "print(S_W.shape)"
   ]
  },
  {
   "cell_type": "code",
   "execution_count": 30,
   "id": "938edfaf-9414-440e-aafb-34f2e5e3e686",
   "metadata": {},
   "outputs": [
    {
     "name": "stdout",
     "output_type": "stream",
     "text": [
      "(13, 13)\n"
     ]
    }
   ],
   "source": [
    "mean_overall = np.mean(train_scaled, axis=0)\n",
    "mean_overall = mean_overall.reshape(d, 1)\n",
    "d = 13\n",
    "S_B = np.zeros((d, d))\n",
    "for i, mean_vec in enumerate(mean_vecs):\n",
    "    n = train_scaled[train_target==i, :].shape[0]\n",
    "    mean_vec = mean_vec.reshape(d, 1)\n",
    "    S_B+=n*(mean_vec-mean_overall).dot((mean_vec-mean_overall).T)\n",
    "print(S_B.shape)"
   ]
  },
  {
   "cell_type": "code",
   "execution_count": 69,
   "id": "1ce39bd1-2d83-428a-af08-fa655a2d8e06",
   "metadata": {},
   "outputs": [
    {
     "name": "stdout",
     "output_type": "stream",
     "text": [
      "493.92387694499564\n",
      "212.24402626120403\n",
      "5.979639928539304e-14\n",
      "5.684341886080802e-14\n",
      "3.7478400397057163e-14\n",
      "2.623918057989143e-14\n",
      "2.623918057989143e-14\n",
      "1.4585796283369913e-14\n",
      "1.2846700077268382e-14\n",
      "1.2175212220884036e-14\n",
      "1.2175212220884036e-14\n",
      "4.072325885824939e-15\n",
      "3.1204184652619695e-15\n"
     ]
    }
   ],
   "source": [
    "eigen_vals, eigen_vecs = np.linalg.eig(np.linalg.inv(S_W).dot(S_B))\n",
    "eigen_vals.shape, eigen_vecs.shape\n",
    "eigen_pairs = [(np.abs(eigen_vals[i]), eigen_vecs[:, i]) for i in range(len(eigen_vals))]\n",
    "eigen_pairs = sorted(eigen_pairs, key=lambda x: x[0], reverse=True)\n",
    "for i in eigen_pairs:\n",
    "    print(i[0])"
   ]
  },
  {
   "cell_type": "code",
   "execution_count": 70,
   "id": "5aaac851-f924-450c-8b0c-1a99b2232020",
   "metadata": {},
   "outputs": [
    {
     "data": {
      "text/plain": [
       "[<matplotlib.lines.Line2D at 0x7f22b075d580>]"
      ]
     },
     "execution_count": 70,
     "metadata": {},
     "output_type": "execute_result"
    },
    {
     "data": {
      "image/png": "[encoded data removed]",
      "text/plain": [
       "<Figure size 640x480 with 1 Axes>"
      ]
     },
     "metadata": {},
     "output_type": "display_data"
    }
   ],
   "source": [
    "import matplotlib.pyplot as plt\n",
    "tot = sum(eigen_vals.real)\n",
    "discr = [(i/tot) for i in sorted(eigen_vals.real, reverse=True)]\n",
    "cum_discr = np.cumsum(discr)\n",
    "plt.bar(np.arange(13), discr, align='center')\n",
    "plt.step(np.arange(13), cum_discr, where='mid', color='red')"
   ]
  },
  {
   "cell_type": "code",
   "execution_count": 72,
   "id": "d7654ce9-929f-4290-a8c8-47e437275d68",
   "metadata": {},
   "outputs": [
    {
     "data": {
      "text/plain": [
       "array([[-0.0766, -0.3389],\n",
       "       [ 0.0771, -0.2866],\n",
       "       [-0.0196, -0.3874],\n",
       "       [ 0.1754,  0.3087],\n",
       "       [-0.0242, -0.0052],\n",
       "       [ 0.1873,  0.0062],\n",
       "       [-0.8225,  0.1973],\n",
       "       [-0.083 ,  0.0427],\n",
       "       [ 0.07  ,  0.1827],\n",
       "       [ 0.2512, -0.4034],\n",
       "       [-0.0505,  0.1398],\n",
       "       [-0.2817, -0.0297],\n",
       "       [-0.2968, -0.548 ]])"
      ]
     },
     "execution_count": 72,
     "metadata": {},
     "output_type": "execute_result"
    }
   ],
   "source": [
    "w = np.hstack((eigen_pairs[0][1][:, np.newaxis].real,\n",
    "               eigen_pairs[1][1][:, np.newaxis].real))\n",
    "w"
   ]
  },
  {
   "cell_type": "code",
   "execution_count": 73,
   "id": "fa9a0f36-fd84-49ff-a7e7-162b438fbf73",
   "metadata": {},
   "outputs": [],
   "source": [
    "train_lda = train_scaled.dot(w)"
   ]
  },
  {
   "cell_type": "code",
   "execution_count": 77,
   "id": "fb756393-d889-466b-81e1-75c47dec27be",
   "metadata": {},
   "outputs": [
    {
     "data": {
      "image/png": "[encoded data removed]",
      "text/plain": [
       "<Figure size 640x480 with 1 Axes>"
      ]
     },
     "metadata": {},
     "output_type": "display_data"
    }
   ],
   "source": [
    "for i in range(len(np.unique(train_target))):\n",
    "    plt.scatter(train_lda[train_target==i, 0],\n",
    "                train_lda[train_target==i, 1])"
   ]
  }
 ],
 "metadata": {
  "kernelspec": {
   "display_name": "Python 3 (ipykernel)",
   "language": "python",
   "name": "python3"
  },
  "language_info": {
   "codemirror_mode": {
    "name": "ipython",
    "version": 3
   },
   "file_extension": ".py",
   "mimetype": "text/x-python",
   "name": "python",
   "nbconvert_exporter": "python",
   "pygments_lexer": "ipython3",
   "version": "3.12.8"
  }
 },
 "nbformat": 4,
 "nbformat_minor": 5
}
